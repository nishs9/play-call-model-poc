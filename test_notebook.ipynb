{
 "cells": [
  {
   "cell_type": "code",
   "execution_count": 7,
   "metadata": {},
   "outputs": [],
   "source": [
    "import pandas as pd\n",
    "import numpy as np"
   ]
  },
  {
   "cell_type": "code",
   "execution_count": 27,
   "metadata": {},
   "outputs": [],
   "source": [
    "def convert_drive_start_to_raw_yards(drive_start_label: str, posteam: str) -> int:\n",
    "    if (drive_start_label == \"50\"):\n",
    "        return 50\n",
    "    drive_start_label_split = drive_start_label.split(\" \")\n",
    "    side_of_field = drive_start_label_split[0].strip()\n",
    "    relative_yardline = int(drive_start_label_split[1])\n",
    "    if (posteam == side_of_field):\n",
    "        return int(100 - int(relative_yardline))\n",
    "    else:\n",
    "        return int(relative_yardline)"
   ]
  },
  {
   "cell_type": "code",
   "execution_count": 35,
   "metadata": {},
   "outputs": [
    {
     "name": "stdout",
     "output_type": "stream",
     "text": [
      "47260    WAS 9\n",
      "47261    WAS 9\n",
      "47262    WAS 9\n",
      "47267    WAS 9\n",
      "47270    WAS 9\n",
      "Name: drive_start_yard_line, dtype: object\n"
     ]
    },
    {
     "data": {
      "text/plain": [
       "47260    91\n",
       "47261    91\n",
       "47262    91\n",
       "47267    91\n",
       "47270    91\n",
       "Name: drive_start_yard_line_100, dtype: object"
      ]
     },
     "execution_count": 35,
     "metadata": {},
     "output_type": "execute_result"
    }
   ],
   "source": [
    "df = pd.read_csv(\"raw_pbp_data/2024_NFL.csv\", low_memory=False)\n",
    "df = df[df['season_type'] == 'REG']\n",
    "df = df[df['down'].isin([1,2,3])]\n",
    "df = df[df['play_type'].isin(['pass', 'run'])] \n",
    "print(df[\"drive_start_yard_line\"].tail())\n",
    "df[[\"posteam\", \"drive_start_yard_line_100\"]] = df[[\"posteam\", \"drive_start_yard_line\"]].apply(lambda row: convert_drive_start_to_raw_yards(row[\"drive_start_yard_line\"], row[\"posteam\"]), axis=1, result_type='broadcast')\n",
    "df[\"drive_start_yard_line_100\"].tail()"
   ]
  },
  {
   "cell_type": "code",
   "execution_count": 37,
   "metadata": {},
   "outputs": [
    {
     "data": {
      "text/html": [
       "<div>\n",
       "<style scoped>\n",
       "    .dataframe tbody tr th:only-of-type {\n",
       "        vertical-align: middle;\n",
       "    }\n",
       "\n",
       "    .dataframe tbody tr th {\n",
       "        vertical-align: top;\n",
       "    }\n",
       "\n",
       "    .dataframe thead th {\n",
       "        text-align: right;\n",
       "    }\n",
       "</style>\n",
       "<table border=\"1\" class=\"dataframe\">\n",
       "  <thead>\n",
       "    <tr style=\"text-align: right;\">\n",
       "      <th></th>\n",
       "      <th>yardline_100</th>\n",
       "      <th>drive_start_yard_line_100</th>\n",
       "      <th>curr_drive_length</th>\n",
       "    </tr>\n",
       "  </thead>\n",
       "  <tbody>\n",
       "    <tr>\n",
       "      <th>47260</th>\n",
       "      <td>63.0</td>\n",
       "      <td>91</td>\n",
       "      <td>28.0</td>\n",
       "    </tr>\n",
       "    <tr>\n",
       "      <th>47261</th>\n",
       "      <td>63.0</td>\n",
       "      <td>91</td>\n",
       "      <td>28.0</td>\n",
       "    </tr>\n",
       "    <tr>\n",
       "      <th>47262</th>\n",
       "      <td>50.0</td>\n",
       "      <td>91</td>\n",
       "      <td>41.0</td>\n",
       "    </tr>\n",
       "    <tr>\n",
       "      <th>47267</th>\n",
       "      <td>16.0</td>\n",
       "      <td>91</td>\n",
       "      <td>75.0</td>\n",
       "    </tr>\n",
       "    <tr>\n",
       "      <th>47270</th>\n",
       "      <td>5.0</td>\n",
       "      <td>91</td>\n",
       "      <td>86.0</td>\n",
       "    </tr>\n",
       "  </tbody>\n",
       "</table>\n",
       "</div>"
      ],
      "text/plain": [
       "       yardline_100 drive_start_yard_line_100 curr_drive_length\n",
       "47260          63.0                        91              28.0\n",
       "47261          63.0                        91              28.0\n",
       "47262          50.0                        91              41.0\n",
       "47267          16.0                        91              75.0\n",
       "47270           5.0                        91              86.0"
      ]
     },
     "execution_count": 37,
     "metadata": {},
     "output_type": "execute_result"
    }
   ],
   "source": [
    "df[\"curr_drive_length\"] = df[\"drive_start_yard_line_100\"] - df[\"yardline_100\"]\n",
    "df[[\"yardline_100\", \"drive_start_yard_line_100\", \"curr_drive_length\"]].tail()"
   ]
  },
  {
   "cell_type": "code",
   "execution_count": null,
   "metadata": {},
   "outputs": [],
   "source": []
  }
 ],
 "metadata": {
  "kernelspec": {
   "display_name": "py312",
   "language": "python",
   "name": "python3"
  },
  "language_info": {
   "codemirror_mode": {
    "name": "ipython",
    "version": 3
   },
   "file_extension": ".py",
   "mimetype": "text/x-python",
   "name": "python",
   "nbconvert_exporter": "python",
   "pygments_lexer": "ipython3",
   "version": "3.12.3"
  }
 },
 "nbformat": 4,
 "nbformat_minor": 2
}
